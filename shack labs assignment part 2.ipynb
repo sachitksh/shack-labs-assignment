{
 "cells": [
  {
   "cell_type": "markdown",
   "id": "9c656bf6",
   "metadata": {},
   "source": [
    "### Name:Sachit kshirsagar"
   ]
  },
  {
   "cell_type": "code",
   "execution_count": 1,
   "id": "1e82ee55",
   "metadata": {},
   "outputs": [],
   "source": [
    "import numpy as np\n",
    "import pandas as pd"
   ]
  },
  {
   "cell_type": "code",
   "execution_count": 2,
   "id": "80b6801c",
   "metadata": {},
   "outputs": [],
   "source": [
    "df1=pd.read_csv('flipkart.csv')"
   ]
  },
  {
   "cell_type": "code",
   "execution_count": 3,
   "id": "d9e47b28",
   "metadata": {},
   "outputs": [],
   "source": [
    "df2=pd.read_csv('amz.csv')"
   ]
  },
  {
   "cell_type": "code",
   "execution_count": 4,
   "id": "d1e374de",
   "metadata": {},
   "outputs": [],
   "source": [
    "df3=pd.merge(df1, df2, on='uniq_id')"
   ]
  },
  {
   "cell_type": "code",
   "execution_count": 5,
   "id": "512b8755",
   "metadata": {},
   "outputs": [],
   "source": [
    "data1=df3[['product_name_x',\n",
    "       'product_category_tree_x','retail_price_x', 'discounted_price_x', 'description_x','brand_x','product_name_y',\n",
    "       'product_category_tree_y','retail_price_y', 'discounted_price_y', 'description_y','brand_y']]"
   ]
  },
  {
   "cell_type": "code",
   "execution_count": 6,
   "id": "9cf656f6",
   "metadata": {},
   "outputs": [
    {
     "name": "stderr",
     "output_type": "stream",
     "text": [
      "C:\\Users\\SACHIT\\AppData\\Local\\Temp\\ipykernel_12516\\1878559528.py:1: SettingWithCopyWarning: \n",
      "A value is trying to be set on a copy of a slice from a DataFrame\n",
      "\n",
      "See the caveats in the documentation: https://pandas.pydata.org/pandas-docs/stable/user_guide/indexing.html#returning-a-view-versus-a-copy\n",
      "  data1.dropna(axis=0,inplace=True)\n"
     ]
    }
   ],
   "source": [
    "data1.dropna(axis=0,inplace=True)\n"
   ]
  },
  {
   "cell_type": "code",
   "execution_count": 7,
   "id": "85ee11c9",
   "metadata": {
    "scrolled": true
   },
   "outputs": [
    {
     "data": {
      "text/plain": [
       "product_name_x             0\n",
       "product_category_tree_x    0\n",
       "retail_price_x             0\n",
       "discounted_price_x         0\n",
       "description_x              0\n",
       "brand_x                    0\n",
       "product_name_y             0\n",
       "product_category_tree_y    0\n",
       "retail_price_y             0\n",
       "discounted_price_y         0\n",
       "description_y              0\n",
       "brand_y                    0\n",
       "dtype: int64"
      ]
     },
     "execution_count": 7,
     "metadata": {},
     "output_type": "execute_result"
    }
   ],
   "source": [
    "data1.isna().sum()"
   ]
  },
  {
   "cell_type": "code",
   "execution_count": 8,
   "id": "d75e4f4a",
   "metadata": {},
   "outputs": [],
   "source": [
    "data1.reset_index(drop=True,inplace=True)"
   ]
  },
  {
   "cell_type": "markdown",
   "id": "5de80eee",
   "metadata": {},
   "source": [
    "## working on names"
   ]
  },
  {
   "cell_type": "code",
   "execution_count": 9,
   "id": "79b9bca0",
   "metadata": {
    "scrolled": true
   },
   "outputs": [
    {
     "data": {
      "text/plain": [
       "\"Jaycoknit Mediterranean Sea's Lucky Wooden Handcrafted Ship Part II Showpiece  -  17 cm\""
      ]
     },
     "execution_count": 9,
     "metadata": {},
     "output_type": "execute_result"
    }
   ],
   "source": [
    "data1['product_name_x'][13035]"
   ]
  },
  {
   "cell_type": "code",
   "execution_count": 10,
   "id": "949cbb77",
   "metadata": {},
   "outputs": [
    {
     "data": {
      "text/plain": [
       "\"JAYCOKNIT MEDITERRANEAN SEA'S LUCKY WOODEN HANDCRAFTED SHIP PART II SHOWPIECE  -  17 CM\""
      ]
     },
     "execution_count": 10,
     "metadata": {},
     "output_type": "execute_result"
    }
   ],
   "source": [
    "data1['product_name_y'][13035]"
   ]
  },
  {
   "cell_type": "markdown",
   "id": "4d62f4aa",
   "metadata": {},
   "source": [
    "## FUZZY STRING MATCHING"
   ]
  },
  {
   "cell_type": "code",
   "execution_count": 11,
   "id": "036e39b7",
   "metadata": {},
   "outputs": [],
   "source": [
    "from rapidfuzz import fuzz"
   ]
  },
  {
   "cell_type": "code",
   "execution_count": 12,
   "id": "bb071b7e",
   "metadata": {},
   "outputs": [
    {
     "data": {
      "text/plain": [
       "33.333333333333336"
      ]
     },
     "execution_count": 12,
     "metadata": {},
     "output_type": "execute_result"
    }
   ],
   "source": [
    "fuzz.ratio(data1['product_name_x'][13035], data1['product_name_y'][13035])"
   ]
  },
  {
   "cell_type": "code",
   "execution_count": 13,
   "id": "79348bb8",
   "metadata": {},
   "outputs": [],
   "source": [
    "l=[]\n",
    "for i in range(data1.shape[0]):\n",
    "    l.append(fuzz.ratio(data1['product_name_x'][i], data1['product_name_y'][i]))"
   ]
  },
  {
   "cell_type": "code",
   "execution_count": 14,
   "id": "93afd8eb",
   "metadata": {},
   "outputs": [
    {
     "name": "stderr",
     "output_type": "stream",
     "text": [
      "C:\\Users\\SACHIT\\AppData\\Local\\Temp\\ipykernel_12516\\3470012033.py:1: SettingWithCopyWarning: \n",
      "A value is trying to be set on a copy of a slice from a DataFrame.\n",
      "Try using .loc[row_indexer,col_indexer] = value instead\n",
      "\n",
      "See the caveats in the documentation: https://pandas.pydata.org/pandas-docs/stable/user_guide/indexing.html#returning-a-view-versus-a-copy\n",
      "  data1['fuzzyratio']=l\n"
     ]
    }
   ],
   "source": [
    "data1['fuzzyratio']=l"
   ]
  },
  {
   "cell_type": "code",
   "execution_count": 15,
   "id": "7067dd47",
   "metadata": {},
   "outputs": [],
   "source": [
    "p=[]\n",
    "for i in range(data1.shape[0]):\n",
    "    p.append(fuzz.partial_ratio(data1['product_name_x'][i], data1['product_name_y'][i]))"
   ]
  },
  {
   "cell_type": "code",
   "execution_count": 16,
   "id": "dbcb0f72",
   "metadata": {},
   "outputs": [
    {
     "name": "stderr",
     "output_type": "stream",
     "text": [
      "C:\\Users\\SACHIT\\AppData\\Local\\Temp\\ipykernel_12516\\133041900.py:1: SettingWithCopyWarning: \n",
      "A value is trying to be set on a copy of a slice from a DataFrame.\n",
      "Try using .loc[row_indexer,col_indexer] = value instead\n",
      "\n",
      "See the caveats in the documentation: https://pandas.pydata.org/pandas-docs/stable/user_guide/indexing.html#returning-a-view-versus-a-copy\n",
      "  data1['fuzz_partial_ratio']=p\n"
     ]
    }
   ],
   "source": [
    "data1['fuzz_partial_ratio']=p"
   ]
  },
  {
   "cell_type": "code",
   "execution_count": 17,
   "id": "79bfb92b",
   "metadata": {},
   "outputs": [],
   "source": [
    "q=[]\n",
    "for i in range(data1.shape[0]):\n",
    "    q.append(fuzz.token_sort_ratio(data1['product_name_x'][i], data1['product_name_y'][i]))"
   ]
  },
  {
   "cell_type": "code",
   "execution_count": 18,
   "id": "132e9fd6",
   "metadata": {},
   "outputs": [],
   "source": [
    "n=[]\n",
    "for i in range(data1.shape[0]):\n",
    "    n.append(fuzz.token_set_ratio(data1['product_name_x'][i], data1['product_name_y'][i]))"
   ]
  },
  {
   "cell_type": "code",
   "execution_count": 19,
   "id": "b4ad59d8",
   "metadata": {},
   "outputs": [
    {
     "name": "stderr",
     "output_type": "stream",
     "text": [
      "C:\\Users\\SACHIT\\AppData\\Local\\Temp\\ipykernel_12516\\570043627.py:1: SettingWithCopyWarning: \n",
      "A value is trying to be set on a copy of a slice from a DataFrame.\n",
      "Try using .loc[row_indexer,col_indexer] = value instead\n",
      "\n",
      "See the caveats in the documentation: https://pandas.pydata.org/pandas-docs/stable/user_guide/indexing.html#returning-a-view-versus-a-copy\n",
      "  data1['token_sort_ratio']=q\n"
     ]
    }
   ],
   "source": [
    "data1['token_sort_ratio']=q"
   ]
  },
  {
   "cell_type": "code",
   "execution_count": 20,
   "id": "b78c6983",
   "metadata": {},
   "outputs": [
    {
     "name": "stderr",
     "output_type": "stream",
     "text": [
      "C:\\Users\\SACHIT\\AppData\\Local\\Temp\\ipykernel_12516\\861777602.py:1: SettingWithCopyWarning: \n",
      "A value is trying to be set on a copy of a slice from a DataFrame.\n",
      "Try using .loc[row_indexer,col_indexer] = value instead\n",
      "\n",
      "See the caveats in the documentation: https://pandas.pydata.org/pandas-docs/stable/user_guide/indexing.html#returning-a-view-versus-a-copy\n",
      "  data1['token_set_ratio']=n\n"
     ]
    }
   ],
   "source": [
    "data1['token_set_ratio']=n"
   ]
  },
  {
   "cell_type": "code",
   "execution_count": 21,
   "id": "81ddb0e4",
   "metadata": {},
   "outputs": [
    {
     "data": {
      "text/plain": [
       "Index(['product_name_x', 'product_category_tree_x', 'retail_price_x',\n",
       "       'discounted_price_x', 'description_x', 'brand_x', 'product_name_y',\n",
       "       'product_category_tree_y', 'retail_price_y', 'discounted_price_y',\n",
       "       'description_y', 'brand_y', 'fuzzyratio', 'fuzz_partial_ratio',\n",
       "       'token_sort_ratio', 'token_set_ratio'],\n",
       "      dtype='object')"
      ]
     },
     "execution_count": 21,
     "metadata": {},
     "output_type": "execute_result"
    }
   ],
   "source": [
    "data1.columns"
   ]
  },
  {
   "cell_type": "code",
   "execution_count": 22,
   "id": "472560ab",
   "metadata": {},
   "outputs": [],
   "source": [
    "data1=data1[['product_name_x','retail_price_x',\n",
    "       'discounted_price_x','product_name_y','retail_price_y', 'discounted_price_y', 'fuzzyratio', 'fuzz_partial_ratio', 'token_sort_ratio', 'token_set_ratio']]"
   ]
  },
  {
   "cell_type": "code",
   "execution_count": 23,
   "id": "c87073a2",
   "metadata": {},
   "outputs": [
    {
     "data": {
      "text/html": [
       "<div>\n",
       "<style scoped>\n",
       "    .dataframe tbody tr th:only-of-type {\n",
       "        vertical-align: middle;\n",
       "    }\n",
       "\n",
       "    .dataframe tbody tr th {\n",
       "        vertical-align: top;\n",
       "    }\n",
       "\n",
       "    .dataframe thead th {\n",
       "        text-align: right;\n",
       "    }\n",
       "</style>\n",
       "<table border=\"1\" class=\"dataframe\">\n",
       "  <thead>\n",
       "    <tr style=\"text-align: right;\">\n",
       "      <th></th>\n",
       "      <th>product_name_x</th>\n",
       "      <th>retail_price_x</th>\n",
       "      <th>discounted_price_x</th>\n",
       "      <th>product_name_y</th>\n",
       "      <th>retail_price_y</th>\n",
       "      <th>discounted_price_y</th>\n",
       "      <th>fuzzyratio</th>\n",
       "      <th>fuzz_partial_ratio</th>\n",
       "      <th>token_sort_ratio</th>\n",
       "      <th>token_set_ratio</th>\n",
       "    </tr>\n",
       "  </thead>\n",
       "  <tbody>\n",
       "    <tr>\n",
       "      <th>0</th>\n",
       "      <td>Alisha Solid Women's Cycling Shorts</td>\n",
       "      <td>999.0</td>\n",
       "      <td>379.0</td>\n",
       "      <td>Alisha Solid Women's Cycling Shorts</td>\n",
       "      <td>982</td>\n",
       "      <td>438</td>\n",
       "      <td>100.000000</td>\n",
       "      <td>100.00000</td>\n",
       "      <td>100.0</td>\n",
       "      <td>100.0</td>\n",
       "    </tr>\n",
       "    <tr>\n",
       "      <th>1</th>\n",
       "      <td>FabHomeDecor Fabric Double Sofa Bed</td>\n",
       "      <td>32157.0</td>\n",
       "      <td>22646.0</td>\n",
       "      <td>FabHomeDecor Fabric Double Sofa Bed</td>\n",
       "      <td>32143</td>\n",
       "      <td>29121</td>\n",
       "      <td>100.000000</td>\n",
       "      <td>100.00000</td>\n",
       "      <td>100.0</td>\n",
       "      <td>100.0</td>\n",
       "    </tr>\n",
       "    <tr>\n",
       "      <th>2</th>\n",
       "      <td>AW Bellies</td>\n",
       "      <td>999.0</td>\n",
       "      <td>499.0</td>\n",
       "      <td>AW Bellies</td>\n",
       "      <td>991</td>\n",
       "      <td>551</td>\n",
       "      <td>100.000000</td>\n",
       "      <td>100.00000</td>\n",
       "      <td>100.0</td>\n",
       "      <td>100.0</td>\n",
       "    </tr>\n",
       "    <tr>\n",
       "      <th>3</th>\n",
       "      <td>Alisha Solid Women's Cycling Shorts</td>\n",
       "      <td>699.0</td>\n",
       "      <td>267.0</td>\n",
       "      <td>Alisha Solid Women's Cycling Shorts</td>\n",
       "      <td>694</td>\n",
       "      <td>325</td>\n",
       "      <td>100.000000</td>\n",
       "      <td>100.00000</td>\n",
       "      <td>100.0</td>\n",
       "      <td>100.0</td>\n",
       "    </tr>\n",
       "    <tr>\n",
       "      <th>4</th>\n",
       "      <td>Sicons All Purpose Arnica Dog Shampoo</td>\n",
       "      <td>220.0</td>\n",
       "      <td>210.0</td>\n",
       "      <td>Sicons All Purpose Arnica Dog Shampoo</td>\n",
       "      <td>208</td>\n",
       "      <td>258</td>\n",
       "      <td>100.000000</td>\n",
       "      <td>100.00000</td>\n",
       "      <td>100.0</td>\n",
       "      <td>100.0</td>\n",
       "    </tr>\n",
       "    <tr>\n",
       "      <th>...</th>\n",
       "      <td>...</td>\n",
       "      <td>...</td>\n",
       "      <td>...</td>\n",
       "      <td>...</td>\n",
       "      <td>...</td>\n",
       "      <td>...</td>\n",
       "      <td>...</td>\n",
       "      <td>...</td>\n",
       "      <td>...</td>\n",
       "      <td>...</td>\n",
       "    </tr>\n",
       "    <tr>\n",
       "      <th>14065</th>\n",
       "      <td>WallDesign Small Vinyl Sticker</td>\n",
       "      <td>1500.0</td>\n",
       "      <td>730.0</td>\n",
       "      <td>WALLDESIGN SMALL VINYL STICKER</td>\n",
       "      <td>1498</td>\n",
       "      <td>876</td>\n",
       "      <td>26.666667</td>\n",
       "      <td>29.62963</td>\n",
       "      <td>100.0</td>\n",
       "      <td>100.0</td>\n",
       "    </tr>\n",
       "    <tr>\n",
       "      <th>14066</th>\n",
       "      <td>Wallmantra Large Vinyl Stickers Sticker</td>\n",
       "      <td>1429.0</td>\n",
       "      <td>1143.0</td>\n",
       "      <td>WALLMANTRA LARGE VINYL STICKERS STICKER</td>\n",
       "      <td>1415</td>\n",
       "      <td>1424</td>\n",
       "      <td>23.076923</td>\n",
       "      <td>25.00000</td>\n",
       "      <td>100.0</td>\n",
       "      <td>100.0</td>\n",
       "    </tr>\n",
       "    <tr>\n",
       "      <th>14067</th>\n",
       "      <td>Elite Collection Medium Acrylic Sticker</td>\n",
       "      <td>1299.0</td>\n",
       "      <td>999.0</td>\n",
       "      <td>ELITE COLLECTION MEDIUM ACRYLIC STICKER</td>\n",
       "      <td>1284</td>\n",
       "      <td>1196</td>\n",
       "      <td>23.076923</td>\n",
       "      <td>25.00000</td>\n",
       "      <td>100.0</td>\n",
       "      <td>100.0</td>\n",
       "    </tr>\n",
       "    <tr>\n",
       "      <th>14068</th>\n",
       "      <td>Elite Collection Medium Acrylic Sticker</td>\n",
       "      <td>1499.0</td>\n",
       "      <td>1199.0</td>\n",
       "      <td>ELITE COLLECTION MEDIUM ACRYLIC STICKER</td>\n",
       "      <td>1492</td>\n",
       "      <td>1364</td>\n",
       "      <td>23.076923</td>\n",
       "      <td>25.00000</td>\n",
       "      <td>100.0</td>\n",
       "      <td>100.0</td>\n",
       "    </tr>\n",
       "    <tr>\n",
       "      <th>14069</th>\n",
       "      <td>Elite Collection Medium Acrylic Sticker</td>\n",
       "      <td>1499.0</td>\n",
       "      <td>999.0</td>\n",
       "      <td>ELITE COLLECTION MEDIUM ACRYLIC STICKER</td>\n",
       "      <td>1484</td>\n",
       "      <td>1247</td>\n",
       "      <td>23.076923</td>\n",
       "      <td>25.00000</td>\n",
       "      <td>100.0</td>\n",
       "      <td>100.0</td>\n",
       "    </tr>\n",
       "  </tbody>\n",
       "</table>\n",
       "<p>14070 rows × 10 columns</p>\n",
       "</div>"
      ],
      "text/plain": [
       "                                product_name_x  retail_price_x  \\\n",
       "0          Alisha Solid Women's Cycling Shorts           999.0   \n",
       "1          FabHomeDecor Fabric Double Sofa Bed         32157.0   \n",
       "2                                   AW Bellies           999.0   \n",
       "3          Alisha Solid Women's Cycling Shorts           699.0   \n",
       "4        Sicons All Purpose Arnica Dog Shampoo           220.0   \n",
       "...                                        ...             ...   \n",
       "14065           WallDesign Small Vinyl Sticker          1500.0   \n",
       "14066  Wallmantra Large Vinyl Stickers Sticker          1429.0   \n",
       "14067  Elite Collection Medium Acrylic Sticker          1299.0   \n",
       "14068  Elite Collection Medium Acrylic Sticker          1499.0   \n",
       "14069  Elite Collection Medium Acrylic Sticker          1499.0   \n",
       "\n",
       "       discounted_price_x                           product_name_y  \\\n",
       "0                   379.0      Alisha Solid Women's Cycling Shorts   \n",
       "1                 22646.0      FabHomeDecor Fabric Double Sofa Bed   \n",
       "2                   499.0                               AW Bellies   \n",
       "3                   267.0      Alisha Solid Women's Cycling Shorts   \n",
       "4                   210.0    Sicons All Purpose Arnica Dog Shampoo   \n",
       "...                   ...                                      ...   \n",
       "14065               730.0           WALLDESIGN SMALL VINYL STICKER   \n",
       "14066              1143.0  WALLMANTRA LARGE VINYL STICKERS STICKER   \n",
       "14067               999.0  ELITE COLLECTION MEDIUM ACRYLIC STICKER   \n",
       "14068              1199.0  ELITE COLLECTION MEDIUM ACRYLIC STICKER   \n",
       "14069               999.0  ELITE COLLECTION MEDIUM ACRYLIC STICKER   \n",
       "\n",
       "       retail_price_y  discounted_price_y  fuzzyratio  fuzz_partial_ratio  \\\n",
       "0                 982                 438  100.000000           100.00000   \n",
       "1               32143               29121  100.000000           100.00000   \n",
       "2                 991                 551  100.000000           100.00000   \n",
       "3                 694                 325  100.000000           100.00000   \n",
       "4                 208                 258  100.000000           100.00000   \n",
       "...               ...                 ...         ...                 ...   \n",
       "14065            1498                 876   26.666667            29.62963   \n",
       "14066            1415                1424   23.076923            25.00000   \n",
       "14067            1284                1196   23.076923            25.00000   \n",
       "14068            1492                1364   23.076923            25.00000   \n",
       "14069            1484                1247   23.076923            25.00000   \n",
       "\n",
       "       token_sort_ratio  token_set_ratio  \n",
       "0                 100.0            100.0  \n",
       "1                 100.0            100.0  \n",
       "2                 100.0            100.0  \n",
       "3                 100.0            100.0  \n",
       "4                 100.0            100.0  \n",
       "...                 ...              ...  \n",
       "14065             100.0            100.0  \n",
       "14066             100.0            100.0  \n",
       "14067             100.0            100.0  \n",
       "14068             100.0            100.0  \n",
       "14069             100.0            100.0  \n",
       "\n",
       "[14070 rows x 10 columns]"
      ]
     },
     "execution_count": 23,
     "metadata": {},
     "output_type": "execute_result"
    }
   ],
   "source": [
    "data1"
   ]
  },
  {
   "cell_type": "markdown",
   "id": "4cb44acf",
   "metadata": {},
   "source": [
    "## Result"
   ]
  },
  {
   "cell_type": "code",
   "execution_count": 24,
   "id": "9bd9e008",
   "metadata": {},
   "outputs": [],
   "source": [
    "def getval(inp):\n",
    "    new_df=data1\n",
    "    x=inp.split(\" \")\n",
    "    for i in range(len(x)):\n",
    "        x[i]=x[i].capitalize()\n",
    "        new_df = new_df[new_df['product_name_x'].str.contains(x[i], na=False)]\n",
    "    return new_df      "
   ]
  },
  {
   "cell_type": "code",
   "execution_count": 25,
   "id": "fa876e28",
   "metadata": {},
   "outputs": [
    {
     "name": "stdout",
     "output_type": "stream",
     "text": [
      "search: men's pants\n"
     ]
    },
    {
     "data": {
      "text/html": [
       "<div>\n",
       "<style scoped>\n",
       "    .dataframe tbody tr th:only-of-type {\n",
       "        vertical-align: middle;\n",
       "    }\n",
       "\n",
       "    .dataframe tbody tr th {\n",
       "        vertical-align: top;\n",
       "    }\n",
       "\n",
       "    .dataframe thead th {\n",
       "        text-align: right;\n",
       "    }\n",
       "</style>\n",
       "<table border=\"1\" class=\"dataframe\">\n",
       "  <thead>\n",
       "    <tr style=\"text-align: right;\">\n",
       "      <th></th>\n",
       "      <th>product_name_x</th>\n",
       "      <th>retail_price_x</th>\n",
       "      <th>discounted_price_x</th>\n",
       "      <th>product_name_y</th>\n",
       "      <th>retail_price_y</th>\n",
       "      <th>discounted_price_y</th>\n",
       "    </tr>\n",
       "  </thead>\n",
       "  <tbody>\n",
       "    <tr>\n",
       "      <th>833</th>\n",
       "      <td>Finger's Printed Men's Track Pants</td>\n",
       "      <td>899.0</td>\n",
       "      <td>424.0</td>\n",
       "      <td>Finger's Printed Men's Track Pants</td>\n",
       "      <td>886</td>\n",
       "      <td>496</td>\n",
       "    </tr>\n",
       "    <tr>\n",
       "      <th>834</th>\n",
       "      <td>TAMBAS Solid Men's Track Pants</td>\n",
       "      <td>849.0</td>\n",
       "      <td>849.0</td>\n",
       "      <td>TAMBAS Solid Men's Track Pants</td>\n",
       "      <td>834</td>\n",
       "      <td>1061</td>\n",
       "    </tr>\n",
       "    <tr>\n",
       "      <th>837</th>\n",
       "      <td>TAMBAS Solid Men's Track Pants</td>\n",
       "      <td>849.0</td>\n",
       "      <td>849.0</td>\n",
       "      <td>TAMBAS Solid Men's Track Pants</td>\n",
       "      <td>841</td>\n",
       "      <td>970</td>\n",
       "    </tr>\n",
       "    <tr>\n",
       "      <th>840</th>\n",
       "      <td>GREENWICH Solid Men's Track Pants</td>\n",
       "      <td>599.0</td>\n",
       "      <td>530.0</td>\n",
       "      <td>GREENWICH Solid Men's Track Pants</td>\n",
       "      <td>590</td>\n",
       "      <td>615</td>\n",
       "    </tr>\n",
       "    <tr>\n",
       "      <th>4269</th>\n",
       "      <td>Status Quo Solid Men's Track Pants</td>\n",
       "      <td>1399.0</td>\n",
       "      <td>1399.0</td>\n",
       "      <td>Status Quo Solid Men's Track Pants</td>\n",
       "      <td>1398</td>\n",
       "      <td>1556</td>\n",
       "    </tr>\n",
       "    <tr>\n",
       "      <th>5738</th>\n",
       "      <td>o.h.m Solid Men's Black Track Pants</td>\n",
       "      <td>1099.0</td>\n",
       "      <td>1099.0</td>\n",
       "      <td>o.h.m Solid Men's Black Track Pants</td>\n",
       "      <td>1079</td>\n",
       "      <td>1428</td>\n",
       "    </tr>\n",
       "    <tr>\n",
       "      <th>5739</th>\n",
       "      <td>Hubberholme Solid Men's Dark Blue Track Pants</td>\n",
       "      <td>999.0</td>\n",
       "      <td>599.0</td>\n",
       "      <td>Hubberholme Solid Men's Dark Blue Track Pants</td>\n",
       "      <td>993</td>\n",
       "      <td>765</td>\n",
       "    </tr>\n",
       "    <tr>\n",
       "      <th>7652</th>\n",
       "      <td>Finger's Solid Men's Track Pants</td>\n",
       "      <td>1299.0</td>\n",
       "      <td>809.0</td>\n",
       "      <td>Finger's Solid Men's Track Pants</td>\n",
       "      <td>1290</td>\n",
       "      <td>1013</td>\n",
       "    </tr>\n",
       "    <tr>\n",
       "      <th>7656</th>\n",
       "      <td>Quiksilver Solid Men's Track Pants</td>\n",
       "      <td>3795.0</td>\n",
       "      <td>3415.0</td>\n",
       "      <td>Quiksilver Solid Men's Track Pants</td>\n",
       "      <td>3790</td>\n",
       "      <td>3778</td>\n",
       "    </tr>\n",
       "    <tr>\n",
       "      <th>7659</th>\n",
       "      <td>Vector X Men's Track Pants</td>\n",
       "      <td>450.0</td>\n",
       "      <td>310.0</td>\n",
       "      <td>Vector X Men's Track Pants</td>\n",
       "      <td>445</td>\n",
       "      <td>403</td>\n",
       "    </tr>\n",
       "    <tr>\n",
       "      <th>7661</th>\n",
       "      <td>Vector X Men's Track Pants</td>\n",
       "      <td>700.0</td>\n",
       "      <td>460.0</td>\n",
       "      <td>Vector X Men's Track Pants</td>\n",
       "      <td>691</td>\n",
       "      <td>564</td>\n",
       "    </tr>\n",
       "    <tr>\n",
       "      <th>12516</th>\n",
       "      <td>Demokrazy Solid Men's Maroon Track Pants</td>\n",
       "      <td>1099.0</td>\n",
       "      <td>539.0</td>\n",
       "      <td>DEMOKRAZY SOLID MEN'S MAROON TRACK PANTS</td>\n",
       "      <td>1083</td>\n",
       "      <td>622</td>\n",
       "    </tr>\n",
       "    <tr>\n",
       "      <th>13017</th>\n",
       "      <td>IndiWeaves Solid Men's Grey Track Pants</td>\n",
       "      <td>1398.0</td>\n",
       "      <td>699.0</td>\n",
       "      <td>INDIWEAVES SOLID MEN'S GREY TRACK PANTS</td>\n",
       "      <td>1391</td>\n",
       "      <td>885</td>\n",
       "    </tr>\n",
       "    <tr>\n",
       "      <th>13023</th>\n",
       "      <td>Hubberholme Solid Men's Grey Track Pants</td>\n",
       "      <td>999.0</td>\n",
       "      <td>699.0</td>\n",
       "      <td>HUBBERHOLME SOLID MEN'S GREY TRACK PANTS</td>\n",
       "      <td>994</td>\n",
       "      <td>835</td>\n",
       "    </tr>\n",
       "    <tr>\n",
       "      <th>13029</th>\n",
       "      <td>IndiWeaves Solid Men's Blue, Brown Track Pants</td>\n",
       "      <td>1398.0</td>\n",
       "      <td>699.0</td>\n",
       "      <td>INDIWEAVES SOLID MEN'S BLUE, BROWN TRACK PANTS</td>\n",
       "      <td>1379</td>\n",
       "      <td>796</td>\n",
       "    </tr>\n",
       "    <tr>\n",
       "      <th>13033</th>\n",
       "      <td>Hubberholme Solid Men's Grey Track Pants</td>\n",
       "      <td>999.0</td>\n",
       "      <td>599.0</td>\n",
       "      <td>HUBBERHOLME SOLID MEN'S GREY TRACK PANTS</td>\n",
       "      <td>996</td>\n",
       "      <td>740</td>\n",
       "    </tr>\n",
       "    <tr>\n",
       "      <th>13037</th>\n",
       "      <td>Hubberholme Solid Men's Grey Track Pants</td>\n",
       "      <td>999.0</td>\n",
       "      <td>599.0</td>\n",
       "      <td>HUBBERHOLME SOLID MEN'S GREY TRACK PANTS</td>\n",
       "      <td>979</td>\n",
       "      <td>742</td>\n",
       "    </tr>\n",
       "    <tr>\n",
       "      <th>13040</th>\n",
       "      <td>Hubberholme Solid Men's Red Track Pants</td>\n",
       "      <td>999.0</td>\n",
       "      <td>599.0</td>\n",
       "      <td>HUBBERHOLME SOLID MEN'S RED TRACK PANTS</td>\n",
       "      <td>986</td>\n",
       "      <td>717</td>\n",
       "    </tr>\n",
       "    <tr>\n",
       "      <th>13043</th>\n",
       "      <td>Hubberholme Solid Men's Grey Track Pants</td>\n",
       "      <td>999.0</td>\n",
       "      <td>599.0</td>\n",
       "      <td>HUBBERHOLME SOLID MEN'S GREY TRACK PANTS</td>\n",
       "      <td>992</td>\n",
       "      <td>728</td>\n",
       "    </tr>\n",
       "    <tr>\n",
       "      <th>13383</th>\n",
       "      <td>Wajbee Solid Men's Black Track Pants</td>\n",
       "      <td>1499.0</td>\n",
       "      <td>596.0</td>\n",
       "      <td>WAJBEE SOLID MEN'S BLACK TRACK PANTS</td>\n",
       "      <td>1485</td>\n",
       "      <td>659</td>\n",
       "    </tr>\n",
       "  </tbody>\n",
       "</table>\n",
       "</div>"
      ],
      "text/plain": [
       "                                       product_name_x  retail_price_x  \\\n",
       "833                Finger's Printed Men's Track Pants           899.0   \n",
       "834                    TAMBAS Solid Men's Track Pants           849.0   \n",
       "837                    TAMBAS Solid Men's Track Pants           849.0   \n",
       "840                 GREENWICH Solid Men's Track Pants           599.0   \n",
       "4269               Status Quo Solid Men's Track Pants          1399.0   \n",
       "5738              o.h.m Solid Men's Black Track Pants          1099.0   \n",
       "5739    Hubberholme Solid Men's Dark Blue Track Pants           999.0   \n",
       "7652                 Finger's Solid Men's Track Pants          1299.0   \n",
       "7656               Quiksilver Solid Men's Track Pants          3795.0   \n",
       "7659                       Vector X Men's Track Pants           450.0   \n",
       "7661                       Vector X Men's Track Pants           700.0   \n",
       "12516        Demokrazy Solid Men's Maroon Track Pants          1099.0   \n",
       "13017         IndiWeaves Solid Men's Grey Track Pants          1398.0   \n",
       "13023        Hubberholme Solid Men's Grey Track Pants           999.0   \n",
       "13029  IndiWeaves Solid Men's Blue, Brown Track Pants          1398.0   \n",
       "13033        Hubberholme Solid Men's Grey Track Pants           999.0   \n",
       "13037        Hubberholme Solid Men's Grey Track Pants           999.0   \n",
       "13040         Hubberholme Solid Men's Red Track Pants           999.0   \n",
       "13043        Hubberholme Solid Men's Grey Track Pants           999.0   \n",
       "13383            Wajbee Solid Men's Black Track Pants          1499.0   \n",
       "\n",
       "       discounted_price_x                                  product_name_y  \\\n",
       "833                 424.0              Finger's Printed Men's Track Pants   \n",
       "834                 849.0                  TAMBAS Solid Men's Track Pants   \n",
       "837                 849.0                  TAMBAS Solid Men's Track Pants   \n",
       "840                 530.0               GREENWICH Solid Men's Track Pants   \n",
       "4269               1399.0              Status Quo Solid Men's Track Pants   \n",
       "5738               1099.0             o.h.m Solid Men's Black Track Pants   \n",
       "5739                599.0   Hubberholme Solid Men's Dark Blue Track Pants   \n",
       "7652                809.0                Finger's Solid Men's Track Pants   \n",
       "7656               3415.0              Quiksilver Solid Men's Track Pants   \n",
       "7659                310.0                      Vector X Men's Track Pants   \n",
       "7661                460.0                      Vector X Men's Track Pants   \n",
       "12516               539.0        DEMOKRAZY SOLID MEN'S MAROON TRACK PANTS   \n",
       "13017               699.0         INDIWEAVES SOLID MEN'S GREY TRACK PANTS   \n",
       "13023               699.0        HUBBERHOLME SOLID MEN'S GREY TRACK PANTS   \n",
       "13029               699.0  INDIWEAVES SOLID MEN'S BLUE, BROWN TRACK PANTS   \n",
       "13033               599.0        HUBBERHOLME SOLID MEN'S GREY TRACK PANTS   \n",
       "13037               599.0        HUBBERHOLME SOLID MEN'S GREY TRACK PANTS   \n",
       "13040               599.0         HUBBERHOLME SOLID MEN'S RED TRACK PANTS   \n",
       "13043               599.0        HUBBERHOLME SOLID MEN'S GREY TRACK PANTS   \n",
       "13383               596.0            WAJBEE SOLID MEN'S BLACK TRACK PANTS   \n",
       "\n",
       "       retail_price_y  discounted_price_y  \n",
       "833               886                 496  \n",
       "834               834                1061  \n",
       "837               841                 970  \n",
       "840               590                 615  \n",
       "4269             1398                1556  \n",
       "5738             1079                1428  \n",
       "5739              993                 765  \n",
       "7652             1290                1013  \n",
       "7656             3790                3778  \n",
       "7659              445                 403  \n",
       "7661              691                 564  \n",
       "12516            1083                 622  \n",
       "13017            1391                 885  \n",
       "13023             994                 835  \n",
       "13029            1379                 796  \n",
       "13033             996                 740  \n",
       "13037             979                 742  \n",
       "13040             986                 717  \n",
       "13043             992                 728  \n",
       "13383            1485                 659  "
      ]
     },
     "execution_count": 25,
     "metadata": {},
     "output_type": "execute_result"
    }
   ],
   "source": [
    "val=input('search: ')\n",
    "p=getval(val)\n",
    "p=p[['product_name_x','retail_price_x','discounted_price_x','product_name_y','retail_price_y', 'discounted_price_y']]\n",
    "p"
   ]
  }
 ],
 "metadata": {
  "kernelspec": {
   "display_name": "Python 3 (ipykernel)",
   "language": "python",
   "name": "python3"
  },
  "language_info": {
   "codemirror_mode": {
    "name": "ipython",
    "version": 3
   },
   "file_extension": ".py",
   "mimetype": "text/x-python",
   "name": "python",
   "nbconvert_exporter": "python",
   "pygments_lexer": "ipython3",
   "version": "3.10.7"
  }
 },
 "nbformat": 4,
 "nbformat_minor": 5
}
